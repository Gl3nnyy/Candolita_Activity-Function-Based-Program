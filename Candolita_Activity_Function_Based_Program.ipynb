{
  "nbformat": 4,
  "nbformat_minor": 0,
  "metadata": {
    "colab": {
      "provenance": []
    },
    "kernelspec": {
      "name": "python3",
      "display_name": "Python 3"
    },
    "language_info": {
      "name": "python"
    }
  },
  "cells": [
    {
      "cell_type": "code",
      "execution_count": 1,
      "metadata": {
        "colab": {
          "base_uri": "https://localhost:8080/"
        },
        "id": "QH2v-o2b1XVZ",
        "outputId": "ec5759aa-dcc9-4ef6-c9df-9154704af52a"
      },
      "outputs": [
        {
          "output_type": "stream",
          "name": "stdout",
          "text": [
            "Enter the first number: 10\n",
            "Enter the second number: 30\n",
            "Enter the third number: 10\n",
            "Total: 50.00\n",
            "Average: 16.67\n"
          ]
        }
      ],
      "source": [
        "#1.\n",
        "def calculate_total_and_average():\n",
        "    num1 = float(input(\"Enter the first number: \"))\n",
        "    num2 = float(input(\"Enter the second number: \"))\n",
        "    num3 = float(input(\"Enter the third number: \"))\n",
        "\n",
        "    total = num1 + num2 + num3\n",
        "    average = total / 3\n",
        "\n",
        "    print(\"Total: {:.2f}\".format(total))\n",
        "    print(\"Average: {:.2f}\".format(average))\n",
        "\n",
        "calculate_total_and_average()"
      ]
    },
    {
      "cell_type": "code",
      "source": [
        "#2.\n",
        "def calculate_tip_and_total():\n",
        "    meal_price = float(input(\"Enter the price of the meal: ₱\"))\n",
        "    tip_percent = float(input(\"Enter the percent tip you want to leave: \"))\n",
        "\n",
        "    tip_amount = meal_price * (tip_percent / 100)\n",
        "    total_bill = meal_price + tip_amount\n",
        "\n",
        "    print(\"Tip amount: $%d\" % tip_amount)\n",
        "    print(\"Total bill with tip: $%d\" % total_bill)\n",
        "\n",
        "calculate_tip_and_total()\n"
      ],
      "metadata": {
        "colab": {
          "base_uri": "https://localhost:8080/"
        },
        "id": "AnYSscfZ1YXM",
        "outputId": "229111b1-8a74-4446-bf1a-c27f0a340ab2"
      },
      "execution_count": 3,
      "outputs": [
        {
          "output_type": "stream",
          "name": "stdout",
          "text": [
            "Enter the price of the meal: ₱100\n",
            "Enter the percent tip you want to leave: 10\n",
            "Tip amount: $10\n",
            "Total bill with tip: $110\n"
          ]
        }
      ]
    },
    {
      "cell_type": "code",
      "source": [
        "#3.\n",
        "def cm_to_inches():\n",
        "    length_cm = float(input(\"Enter a length in centimeters: \"))\n",
        "\n",
        "    if length_cm <= 0:\n",
        "        print(\"Invalid entry. Please enter again.\")\n",
        "    else:\n",
        "        inches = length_cm / 2.54\n",
        "\n",
        "        print(\"Length in inches: {:.2f}\".format(inches))\n",
        "\n",
        "cm_to_inches()\n"
      ],
      "metadata": {
        "colab": {
          "base_uri": "https://localhost:8080/"
        },
        "id": "WTsfSa183tc4",
        "outputId": "6e2d0ecd-3429-47b8-e6ae-15ec46ff0abc"
      },
      "execution_count": 4,
      "outputs": [
        {
          "output_type": "stream",
          "name": "stdout",
          "text": [
            "Enter a length in centimeters: 100\n",
            "Length in inches: 39.37\n"
          ]
        }
      ]
    },
    {
      "cell_type": "code",
      "source": [
        "#4.\n",
        "import math\n",
        "\n",
        "def calculate_cylinder_properties():\n",
        "    radius = float(input(\"Enter the radius of the cylinder: \"))\n",
        "    length = float(input(\"Enter the length of the cylinder: \"))\n",
        "\n",
        "    area = radius * radius * math.pi\n",
        "\n",
        "    volume = area * length\n",
        "\n",
        "    print(\"Area of the cylinder: {}\".format(area))\n",
        "    print(\"Volume of the cylinder: {}\".format(volume))\n",
        "\n",
        "calculate_cylinder_properties()\n"
      ],
      "metadata": {
        "colab": {
          "base_uri": "https://localhost:8080/"
        },
        "id": "7rZ6e2pl4p1Z",
        "outputId": "67bff5a3-d500-4d71-82f2-1f609af458f1"
      },
      "execution_count": 5,
      "outputs": [
        {
          "output_type": "stream",
          "name": "stdout",
          "text": [
            "Enter the radius of the cylinder: 40\n",
            "Enter the length of the cylinder: 21\n",
            "Area of the cylinder: 5026.548245743669\n",
            "Volume of the cylinder: 105557.51316061705\n"
          ]
        }
      ]
    },
    {
      "cell_type": "code",
      "source": [
        "#5.\n",
        "def feet_to_meters():\n",
        "    feet = float(input(\"Enter a number in feet: \"))\n",
        "\n",
        "    meters = feet * 0.305\n",
        "\n",
        "    print(\"The number in meters: %d\" % meters)\n",
        "\n",
        "feet_to_meters()\n"
      ],
      "metadata": {
        "colab": {
          "base_uri": "https://localhost:8080/"
        },
        "id": "171bgtdp5E5C",
        "outputId": "22136a7e-e146-481a-da2c-24f43fa68508"
      },
      "execution_count": 6,
      "outputs": [
        {
          "output_type": "stream",
          "name": "stdout",
          "text": [
            "Enter a number in feet: 6\n",
            "The number in meters: 1\n"
          ]
        }
      ]
    },
    {
      "cell_type": "code",
      "source": [
        "#6.\n",
        "def pounds_to_kilograms():\n",
        "    pounds = float(input(\"Enter a number in pounds: \"))\n",
        "\n",
        "    kilograms = pounds * 0.454\n",
        "\n",
        "    print(\"The number in kilograms: {}\".format(kilograms))\n",
        "\n",
        "pounds_to_kilograms()\n"
      ],
      "metadata": {
        "colab": {
          "base_uri": "https://localhost:8080/"
        },
        "id": "7dqq2ddI5uku",
        "outputId": "8b967203-1e23-4679-aed7-3468d9e2eee7"
      },
      "execution_count": 7,
      "outputs": [
        {
          "output_type": "stream",
          "name": "stdout",
          "text": [
            "Enter a number in pounds: 100\n",
            "The number in kilograms: 45.4\n"
          ]
        }
      ]
    },
    {
      "cell_type": "code",
      "source": [
        "#9.\n",
        "def login_system():\n",
        "    correct_password = \"Lalisa321\"\n",
        "\n",
        "    tries = 0\n",
        "\n",
        "    while tries < 5:\n",
        "        password = input(\"Enter your password: \")\n",
        "\n",
        "        if password == correct_password:\n",
        "            print(\"You are logged in to the system.\")\n",
        "            return\n",
        "\n",
        "        tries += 1\n",
        "        print(\"Incorrect password. Please try again.\")\n",
        "\n",
        "    print(\"You are kicked off the system.\")\n",
        "\n",
        "login_system()\n"
      ],
      "metadata": {
        "colab": {
          "base_uri": "https://localhost:8080/"
        },
        "id": "Yl9dsI0z6Ddf",
        "outputId": "78b955f0-531c-4f45-e237-f00f722ff164"
      },
      "execution_count": 8,
      "outputs": [
        {
          "output_type": "stream",
          "name": "stdout",
          "text": [
            "Enter your password: asd\n",
            "Incorrect password. Please try again.\n",
            "Enter your password: 2sd\n",
            "Incorrect password. Please try again.\n",
            "Enter your password: 2sdf\n",
            "Incorrect password. Please try again.\n",
            "Enter your password: vsasd\n",
            "Incorrect password. Please try again.\n",
            "Enter your password: Lalisa321\n",
            "You are logged in to the system.\n"
          ]
        }
      ]
    },
    {
      "cell_type": "code",
      "source": [
        "#10.\n",
        "def kg_to_pounds():\n",
        "    kg_to_pounds_factor = 2.20462\n",
        "\n",
        "    while True:\n",
        "        weight_kg = float(input(\"Enter a weight in kilograms: \"))\n",
        "\n",
        "        if weight_kg >= 0:\n",
        "            weight_pounds = weight_kg * kg_to_pounds_factor\n",
        "\n",
        "            print(\"Weight in pounds: {}\".format(weight_pounds))\n",
        "            break\n",
        "        else:\n",
        "            print(\"Invalid entry. Please enter a weight greater than or equal to 0.\")\n",
        "\n",
        "kg_to_pounds()\n"
      ],
      "metadata": {
        "colab": {
          "base_uri": "https://localhost:8080/"
        },
        "id": "86iY5_nY6pY3",
        "outputId": "5a0c4cb8-0365-4e34-b0d2-1aacc5d6c0a3"
      },
      "execution_count": 9,
      "outputs": [
        {
          "output_type": "stream",
          "name": "stdout",
          "text": [
            "Enter a weight in kilograms: 50\n",
            "Weight in pounds: 110.231\n"
          ]
        }
      ]
    },
    {
      "cell_type": "code",
      "source": [
        "#11.\n",
        "def calculate_average_grade():\n",
        "    grades = {\n",
        "        'math': 0,\n",
        "        'english': 0,\n",
        "        'history': 0,\n",
        "        'science': 0,\n",
        "        'filipino': 0\n",
        "    }\n",
        "\n",
        "    for subject in grades:\n",
        "        grades[subject] = float(input(\"Enter the grade for {}: \".format(subject.capitalize())))\n",
        "\n",
        "    total_grade = sum(grades.values())\n",
        "    average_grade = total_grade / len(grades)\n",
        "\n",
        "    print(\"Average grade: {:.2f}\".format(average_grade))\n",
        "\n",
        "calculate_average_grade()\n"
      ],
      "metadata": {
        "colab": {
          "base_uri": "https://localhost:8080/"
        },
        "id": "LphklXNy7Df-",
        "outputId": "40072a43-4c1f-4c9c-b7ce-492e5725016c"
      },
      "execution_count": 10,
      "outputs": [
        {
          "output_type": "stream",
          "name": "stdout",
          "text": [
            "Enter the grade for Math: 98\n",
            "Enter the grade for English: 97\n",
            "Enter the grade for History: 99\n",
            "Enter the grade for Science: 95\n",
            "Enter the grade for Filipino: 94\n",
            "Average grade: 96.60\n"
          ]
        }
      ]
    },
    {
      "cell_type": "code",
      "source": [
        "#12.\n",
        "def peso_to_dollar():\n",
        "    conversion_rate = 0.017\n",
        "\n",
        "    amount_peso = float(input(\"Enter an amount in pesos: \"))\n",
        "\n",
        "    amount_dollar = amount_peso * conversion_rate\n",
        "\n",
        "    print(\"Amount in dollars: %d\" % amount_dollar)\n",
        "\n",
        "peso_to_dollar()\n"
      ],
      "metadata": {
        "colab": {
          "base_uri": "https://localhost:8080/"
        },
        "id": "alNvnXMr8Jqy",
        "outputId": "5de532b6-b18f-49d1-fdb9-14cf968262ac"
      },
      "execution_count": 11,
      "outputs": [
        {
          "output_type": "stream",
          "name": "stdout",
          "text": [
            "Enter an amount in pesos: 5000\n",
            "Amount in dollars: 85\n"
          ]
        }
      ]
    },
    {
      "cell_type": "code",
      "source": [
        "#13.\n",
        "def calculate_payroll():\n",
        "    name = input(\"Enter employee's name: \")\n",
        "    hours_worked = float(input(\"Enter number of hours worked in a week: \"))\n",
        "    hourly_rate = float(input(\"Enter hourly pay rate: \"))\n",
        "    deductions = float(input(\"Enter deductions: \"))\n",
        "\n",
        "    gross_pay = hours_worked * hourly_rate\n",
        "\n",
        "    net_pay = gross_pay - deductions\n",
        "\n",
        "    print(\"Employee's name: {}\".format(name))\n",
        "    print(\"Number of hours worked in a week: {}\".format(hours_worked))\n",
        "    print(\"Hourly pay rate: {}\".format(hourly_rate))\n",
        "    print(\"Gross Pay: {}\".format(gross_pay))\n",
        "    print(\"Deductions: {}\".format(deductions))\n",
        "    print(\"Net Pay: {}\".format(net_pay))\n",
        "\n",
        "calculate_payroll()\n"
      ],
      "metadata": {
        "colab": {
          "base_uri": "https://localhost:8080/"
        },
        "id": "VhEN2Zka8jUC",
        "outputId": "6d4c7c66-2bdf-45c4-906b-81d9c446b1db"
      },
      "execution_count": 12,
      "outputs": [
        {
          "output_type": "stream",
          "name": "stdout",
          "text": [
            "Enter employee's name: John\n",
            "Enter number of hours worked in a week: 28\n",
            "Enter hourly pay rate: 250\n",
            "Enter deductions: 300\n",
            "Employee's name: John\n",
            "Number of hours worked in a week: 28.0\n",
            "Hourly pay rate: 250.0\n",
            "Gross Pay: 7000.0\n",
            "Deductions: 300.0\n",
            "Net Pay: 6700.0\n"
          ]
        }
      ]
    },
    {
      "cell_type": "code",
      "source": [
        "#14.\n",
        "def reverse_string(input_string):\n",
        "    reversed_string = \"\"\n",
        "\n",
        "    for char in input_string[::-1]:\n",
        "        reversed_string += char\n",
        "\n",
        "    return reversed_string\n",
        "\n",
        "input_string = input(\"Enter a string: \")\n",
        "\n",
        "reversed_string = reverse_string(input_string)\n",
        "\n",
        "print(\"Reversed string: {}\".format(reversed_string))\n"
      ],
      "metadata": {
        "colab": {
          "base_uri": "https://localhost:8080/"
        },
        "id": "s5Zo5FJq9X6Q",
        "outputId": "e866821c-8ae0-4e98-c132-d7564c16bf9a"
      },
      "execution_count": 13,
      "outputs": [
        {
          "output_type": "stream",
          "name": "stdout",
          "text": [
            "Enter a string: Good Morning\n",
            "Reversed string: gninroM dooG\n"
          ]
        }
      ]
    },
    {
      "cell_type": "code",
      "source": [
        "#15.\n",
        "def print_even_numbers(input_list):\n",
        "    even_numbers = []\n",
        "\n",
        "    for num in input_list:\n",
        "        if num % 2 == 0:\n",
        "            even_numbers.append(num)\n",
        "\n",
        "    print(\"Even numbers from the list: {}\".format(even_numbers))\n",
        "\n",
        "L = [4,78,23,66,23,89,56,21,2]\n",
        "\n",
        "print_even_numbers(L)\n"
      ],
      "metadata": {
        "colab": {
          "base_uri": "https://localhost:8080/"
        },
        "id": "13qz9cdz9tNg",
        "outputId": "78ffdb44-cc60-4290-a461-a15d43fcab45"
      },
      "execution_count": 23,
      "outputs": [
        {
          "output_type": "stream",
          "name": "stdout",
          "text": [
            "Even numbers from the list: [4, 78, 66, 56, 2]\n"
          ]
        }
      ]
    },
    {
      "cell_type": "code",
      "source": [
        "#16.\n",
        "def is_palindrome(input_string):\n",
        "    input_string = input_string.lower().replace(\" \", \"\")\n",
        "\n",
        "    if input_string == input_string[::-1]:\n",
        "        return True\n",
        "    else:\n",
        "        return False\n",
        "\n",
        "input_string = input(\"Enter a string: \")\n",
        "\n",
        "if is_palindrome(input_string):\n",
        "    print(\"The string is a palindrome.\")\n",
        "else:\n",
        "    print(\"The string is not a palindrome.\")\n"
      ],
      "metadata": {
        "colab": {
          "base_uri": "https://localhost:8080/"
        },
        "id": "qWIIImv095-i",
        "outputId": "b25af4f7-da86-4835-e423-cb1273380498"
      },
      "execution_count": 22,
      "outputs": [
        {
          "output_type": "stream",
          "name": "stdout",
          "text": [
            "Enter a string: racecar\n",
            "The string is a palindrome.\n"
          ]
        }
      ]
    },
    {
      "cell_type": "code",
      "source": [
        "#17.\n",
        "def find_largest_item(input_list):\n",
        "    if not input_list:\n",
        "        print(\"The list is empty.\")\n",
        "        return None\n",
        "\n",
        "    largest_item = input_list[0]\n",
        "\n",
        "    for item in input_list:\n",
        "\n",
        "        if item > largest_item:\n",
        "            largest_item = item\n",
        "\n",
        "    print(\"Largest item in the list: {}\".format(largest_item))\n",
        "    return largest_item\n",
        "\n",
        "x = [4, 6, 8, 24, 12, 2]\n",
        "\n",
        "find_largest_item(x)\n"
      ],
      "metadata": {
        "colab": {
          "base_uri": "https://localhost:8080/"
        },
        "id": "-yyEj2uJ-h0U",
        "outputId": "c005e56c-7f2b-4b50-9b96-f1baf79d360d"
      },
      "execution_count": 24,
      "outputs": [
        {
          "output_type": "stream",
          "name": "stdout",
          "text": [
            "Largest item in the list: 24\n"
          ]
        },
        {
          "output_type": "execute_result",
          "data": {
            "text/plain": [
              "24"
            ]
          },
          "metadata": {},
          "execution_count": 24
        }
      ]
    },
    {
      "cell_type": "code",
      "source": [
        "#18.\n",
        "def even(num):\n",
        "    if num % 2 == 0:\n",
        "        return True\n",
        "    else:\n",
        "        return False\n",
        "\n",
        "num = int(input(\"Enter a number: \"))\n",
        "\n",
        "if even(num):\n",
        "    print(\"The number {} is even.\".format(num))\n",
        "else:\n",
        "    print(\"The number {} is not even.\".format(num))\n"
      ],
      "metadata": {
        "colab": {
          "base_uri": "https://localhost:8080/"
        },
        "id": "17ET57X0_Li3",
        "outputId": "bdf1c612-d629-496a-9b4a-9cbeab19fa42"
      },
      "execution_count": 27,
      "outputs": [
        {
          "output_type": "stream",
          "name": "stdout",
          "text": [
            "Enter a number: 33\n",
            "The number 33 is not even.\n"
          ]
        }
      ]
    },
    {
      "cell_type": "code",
      "source": [
        "#19.\n",
        "def sum(low, high):\n",
        "    total_sum = 0\n",
        "\n",
        "    for num in range(low, high + 1):\n",
        "        total_sum += num\n",
        "\n",
        "    return total_sum\n",
        "\n",
        "low = int(input(\"Enter the low number: \"))\n",
        "high = int(input(\"Enter the high number: \"))\n",
        "\n",
        "result = sum(low, high)\n",
        "\n",
        "print(\"Sum of numbers between {} and {}: {}\".format(low, high, result))\n",
        "\n"
      ],
      "metadata": {
        "colab": {
          "base_uri": "https://localhost:8080/"
        },
        "id": "k4jcAZfw_cVr",
        "outputId": "0378db10-4ba5-4026-9604-04868ab26beb"
      },
      "execution_count": 28,
      "outputs": [
        {
          "output_type": "stream",
          "name": "stdout",
          "text": [
            "Enter the low number: 19\n",
            "Enter the high number: 87\n",
            "Sum of numbers between 19 and 87: 3657\n"
          ]
        }
      ]
    },
    {
      "cell_type": "code",
      "source": [
        "#20.\n",
        "def f_1(number):\n",
        "    return number + 5\n",
        "\n",
        "def f_2(number):\n",
        "    return f_1(number) * 2\n",
        "\n",
        "number = int(input(\"Enter a number: \"))\n",
        "\n",
        "result_f1 = f_1(number)\n",
        "result_f2 = f_2(number)\n",
        "\n",
        "print(\"Result of f_1 function with input {}: {}\".format(number, result_f1))\n",
        "print(\"Result of f_2 function with input {}: {}\".format(number, result_f2))\n"
      ],
      "metadata": {
        "colab": {
          "base_uri": "https://localhost:8080/"
        },
        "id": "98QvTgGt_5ez",
        "outputId": "4153477d-7c02-4890-844f-d13b4805fe19"
      },
      "execution_count": 31,
      "outputs": [
        {
          "output_type": "stream",
          "name": "stdout",
          "text": [
            "Enter a number: 88\n",
            "Result of f_1 function with input 88: 93\n",
            "Result of f_2 function with input 88: 186\n"
          ]
        }
      ]
    },
    {
      "cell_type": "code",
      "source": [
        "#21.\n",
        "def sum_of_list(numbers):\n",
        "    total_sum = 0\n",
        "\n",
        "    for num in numbers:\n",
        "        total_sum += num\n",
        "\n",
        "    return total_sum\n",
        "\n",
        "numbers = [73,15,42,88,29,50,6,63,97,12]\n",
        "\n",
        "result = sum_of_list(numbers)\n",
        "\n",
        "print(\"Sum of numbers in the list: %d\" % result)\n"
      ],
      "metadata": {
        "colab": {
          "base_uri": "https://localhost:8080/"
        },
        "id": "BRMLDYoRAxQ3",
        "outputId": "0e5e8412-bcaa-4fe8-f2fc-63858687a3c9"
      },
      "execution_count": 32,
      "outputs": [
        {
          "output_type": "stream",
          "name": "stdout",
          "text": [
            "Sum of numbers in the list: 475\n"
          ]
        }
      ]
    },
    {
      "cell_type": "code",
      "source": [
        "#22.\n",
        "def multiply_all(numbers):\n",
        "    result = 1\n",
        "\n",
        "    for num in numbers:\n",
        "        result *= num\n",
        "\n",
        "    return result\n",
        "\n",
        "numbers = [73,15,42,88,29,50,6,63,97,12]\n",
        "\n",
        "product = multiply_all(numbers)\n",
        "\n",
        "print(\"Product of numbers in the list:\", product)\n"
      ],
      "metadata": {
        "colab": {
          "base_uri": "https://localhost:8080/"
        },
        "id": "c4q7PbGuCD_d",
        "outputId": "4edc43a5-a110-409d-ac0a-113529e07713"
      },
      "execution_count": 33,
      "outputs": [
        {
          "output_type": "stream",
          "name": "stdout",
          "text": [
            "Product of numbers in the list: 2582015613408000\n"
          ]
        }
      ]
    },
    {
      "cell_type": "code",
      "source": [
        "#23.\n",
        "def hotel_cost(nights):\n",
        "    total_cost = 140 * nights\n",
        "\n",
        "    return total_cost\n",
        "\n",
        "nights = int(input(\"Enter the number of nights: \"))\n",
        "\n",
        "total_cost = hotel_cost(nights)\n",
        "\n",
        "print(\"Total cost for {} nights: {}\".format(nights, total_cost))\n"
      ],
      "metadata": {
        "colab": {
          "base_uri": "https://localhost:8080/"
        },
        "id": "peCMJSCmCUQF",
        "outputId": "8816bc31-6cc8-4244-b11f-7276b7ce2374"
      },
      "execution_count": 34,
      "outputs": [
        {
          "output_type": "stream",
          "name": "stdout",
          "text": [
            "Enter the number of nights: 4\n",
            "Total cost for 4 nights: 560\n"
          ]
        }
      ]
    },
    {
      "cell_type": "code",
      "source": [
        "#24.\n",
        "def plane_ride_cost(country):\n",
        "    destinations = {\n",
        "        \"Japan\": 18300,\n",
        "        \"South Korea\": 22000,\n",
        "        \"Canada\": 22200,\n",
        "        \"Los Angeles\": 47500\n",
        "    }\n",
        "\n",
        "    if country in destinations:\n",
        "        return destinations[country]\n",
        "    else:\n",
        "        return \"Invalid destination\"\n",
        "\n",
        "destination_country = input(\"Enter the destination country: \")\n",
        "\n",
        "price = plane_ride_cost(destination_country)\n",
        "\n",
        "print(\"Round-trip price for {}: {}\".format(destination_country, price))\n"
      ],
      "metadata": {
        "colab": {
          "base_uri": "https://localhost:8080/"
        },
        "id": "lRrWLKCfCdCr",
        "outputId": "7017c20e-8586-4b30-f66b-1addd42c87f7"
      },
      "execution_count": 35,
      "outputs": [
        {
          "output_type": "stream",
          "name": "stdout",
          "text": [
            "Enter the destination country: Canada\n",
            "Round-trip price for Canada: 22200\n"
          ]
        }
      ]
    },
    {
      "cell_type": "code",
      "source": [
        "#26.\n",
        "def shut_down(s):\n",
        "    if s == \"yes\":\n",
        "        return \"Shutting down\"\n",
        "    elif s == \"no\":\n",
        "        return \"Shutdown aborted\"\n",
        "    else:\n",
        "        return \"Sorry\"\n",
        "\n",
        "response = input(\"Enter 'yes' to shut down or 'no' to abort: \")\n",
        "\n",
        "print(\"%s\" % shut_down(response))\n",
        "\n"
      ],
      "metadata": {
        "colab": {
          "base_uri": "https://localhost:8080/"
        },
        "id": "2XJFQtT_Cog9",
        "outputId": "b1ecf4f4-a33b-4458-f102-e0b5f3f72e98"
      },
      "execution_count": 41,
      "outputs": [
        {
          "output_type": "stream",
          "name": "stdout",
          "text": [
            "Enter 'yes' to shut down or 'no' to abort: dsa\n",
            "Sorry\n"
          ]
        }
      ]
    },
    {
      "cell_type": "code",
      "source": [
        "#26.\n",
        "def squares_list():\n",
        "    squares = [x ** 2 for x in range(1, 31)]\n",
        "\n",
        "    print(\"List of squares of numbers between 1 and 30:\")\n",
        "    for index, square in enumerate(squares):\n",
        "        print(\"{}: {}\".format(index + 1, square))\n",
        "\n",
        "squares_list()\n"
      ],
      "metadata": {
        "colab": {
          "base_uri": "https://localhost:8080/"
        },
        "id": "0cDXt6WCC5Vf",
        "outputId": "7ec340fe-9713-4235-db0f-cee801920d1d"
      },
      "execution_count": 42,
      "outputs": [
        {
          "output_type": "stream",
          "name": "stdout",
          "text": [
            "List of squares of numbers between 1 and 30:\n",
            "1: 1\n",
            "2: 4\n",
            "3: 9\n",
            "4: 16\n",
            "5: 25\n",
            "6: 36\n",
            "7: 49\n",
            "8: 64\n",
            "9: 81\n",
            "10: 100\n",
            "11: 121\n",
            "12: 144\n",
            "13: 169\n",
            "14: 196\n",
            "15: 225\n",
            "16: 256\n",
            "17: 289\n",
            "18: 324\n",
            "19: 361\n",
            "20: 400\n",
            "21: 441\n",
            "22: 484\n",
            "23: 529\n",
            "24: 576\n",
            "25: 625\n",
            "26: 676\n",
            "27: 729\n",
            "28: 784\n",
            "29: 841\n",
            "30: 900\n"
          ]
        }
      ]
    },
    {
      "cell_type": "code",
      "source": [],
      "metadata": {
        "id": "LjZ3JgtOETco"
      },
      "execution_count": null,
      "outputs": []
    }
  ]
}